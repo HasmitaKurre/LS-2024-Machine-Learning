{
  "nbformat": 4,
  "nbformat_minor": 0,
  "metadata": {
    "colab": {
      "provenance": []
    },
    "kernelspec": {
      "name": "python3",
      "display_name": "Python 3"
    },
    "language_info": {
      "name": "python"
    }
  },
  "cells": [
    {
      "cell_type": "code",
      "execution_count": null,
      "metadata": {
        "id": "3-IDpUBfq9P-"
      },
      "outputs": [],
      "source": [
        "import pandas as pd\n",
        "import numpy as np\n",
        "import cv2\n",
        "import os\n",
        "from sklearn.model_selection import train_test_split\n",
        "from tensorflow.keras.preprocessing.image import ImageDataGenerator\n",
        "from tensorflow.keras.applications import ResNet50\n",
        "from tensorflow.keras.models import Sequential\n",
        "from tensorflow.keras.layers import Dense, Flatten, Dropout\n",
        "from tensorflow.keras.callbacks import EarlyStopping, ReduceLROnPlateau\n",
        "from tensorflow.keras.optimizers import Adam\n",
        "from sklearn.metrics import accuracy_score, roc_auc_score, average_precision_score, f1_score"
      ]
    },
    {
      "cell_type": "code",
      "source": [
        "# Load the data\n",
        "#train_df = pd.read_csv('/content/KCDH2024_Test_GroundTruth.csv')\n",
        "#test_df = pd.read_csv('/content/KCDH2024_Test_GroundTruth.csv')\n",
        "\n",
        "\n",
        "train_df = pd.read_excel('/content/KCDH2024_Test_GroundTruth.csv', sheet_name=None)\n",
        "test_df = pd.read_excel('/content/KCDH2024_Test_GroundTruth.csv', sheet_name=None)"
      ],
      "metadata": {
        "id": "ZuwkjaQlrE4M"
      },
      "execution_count": null,
      "outputs": []
    },
    {
      "cell_type": "code",
      "source": [
        "train_df"
      ],
      "metadata": {
        "id": "UJcy1yF8rE57"
      },
      "execution_count": null,
      "outputs": []
    },
    {
      "cell_type": "code",
      "source": [
        "test_df"
      ],
      "metadata": {
        "id": "ze51OiTOrE9o"
      },
      "execution_count": null,
      "outputs": []
    },
    {
      "cell_type": "code",
      "source": [
        "# Preprocessing function\n",
        "def preprocess_image(img_path, target_size=(224, 224)):\n",
        "    img = cv2.imread(img_path)\n",
        "    img = cv2.resize(img, target_size)\n",
        "    img = img / 255.0\n",
        "    return img"
      ],
      "metadata": {
        "id": "e289wMFirE-7"
      },
      "execution_count": null,
      "outputs": []
    },
    {
      "cell_type": "code",
      "source": [
        "# Data generators\n",
        "train_datagen = ImageDataGenerator(\n",
        "    rescale=1./255,\n",
        "    rotation_range=20,\n",
        "    width_shift_range=0.2,\n",
        "    height_shift_range=0.2,\n",
        "    horizontal_flip=True\n",
        ")"
      ],
      "metadata": {
        "id": "d9vMurD8rFDM"
      },
      "execution_count": null,
      "outputs": []
    },
    {
      "cell_type": "code",
      "source": [
        "train_generator = train_datagen.flow_from_directory(\n",
        "    '/content/KCDH2024_Train_Input',  # Path to the training images directory\n",
        "    target_size=(224, 224),     # Resize images to 224x224 pixels\n",
        "    batch_size=32,              # Number of images to return in each batch\n",
        "    class_mode='categorical'    # For multi-class classification\n",
        ")"
      ],
      "metadata": {
        "id": "x9VjqQ1DuPjX"
      },
      "execution_count": null,
      "outputs": []
    },
    {
      "cell_type": "code",
      "source": [
        "val_generator = val_datagen.flow_from_dataframe(\n",
        "    dataframe=val_df,\n",
        "    x_col='image_path',\n",
        "    y_col='label',\n",
        "    target_size=(224, 224),\n",
        "    batch_size=1000,\n",
        "    class_mode='categorical'\n",
        ")"
      ],
      "metadata": {
        "id": "Iy9_UR-SuPrc"
      },
      "execution_count": null,
      "outputs": []
    },
    {
      "cell_type": "code",
      "source": [
        "test_generator = test_datagen.flow_from_directory(\n",
        "    '/content/KCDH2024_Test_Input',  # Path to the training images directory\n",
        "    target_size=(224, 224),     # Resize images to 224x224 pixels\n",
        "    batch_size=1000,              # Number of images to return in each batch\n",
        "    class_mode='categorical'    # For multi-class classification\n",
        ")"
      ],
      "metadata": {
        "id": "1tshjbEZzvQ0"
      },
      "execution_count": null,
      "outputs": []
    },
    {
      "cell_type": "code",
      "source": [
        "test_datagen = ImageDataGenerator(rescale=1./255)\n",
        "\n",
        "# Create the model\n",
        "base_model = ResNet50(weights='imagenet', include_top=False, input_shape=(224, 224, 3))\n",
        "model = Sequential([\n",
        "    base_model,\n",
        "    Flatten(),\n",
        "    Dense(256, activation='relu'),\n",
        "    Dropout(0.5),\n",
        "    Dense(7, activation='softmax')\n",
        "])"
      ],
      "metadata": {
        "id": "TN1iXgsVvQvw"
      },
      "execution_count": null,
      "outputs": []
    },
    {
      "cell_type": "code",
      "source": [
        "model.compile(optimizer=Adam(learning_rate=0.0001), loss='categorical_crossentropy', metrics=['accuracy'])"
      ],
      "metadata": {
        "id": "9soSStzcvQ5Z"
      },
      "execution_count": null,
      "outputs": []
    },
    {
      "cell_type": "code",
      "source": [
        "# Callbacks\n",
        "early_stopping = EarlyStopping(monitor='val_loss', patience=10, restore_best_weights=True)\n",
        "reduce_lr = ReduceLROnPlateau(monitor='val_loss', factor=0.1, patience=5)\n",
        "\n",
        "# Train the model\n",
        "history = model.fit(\n",
        "    train_generator,\n",
        "    validation_data=test_generator,\n",
        "    epochs=50,\n",
        "    callbacks=[early_stopping, reduce_lr]\n",
        ")"
      ],
      "metadata": {
        "id": "z8-4WZp3uPtR"
      },
      "execution_count": null,
      "outputs": []
    },
    {
      "cell_type": "code",
      "source": [
        "\n",
        "\n",
        "# Evaluate the model\n",
        "test_loss, test_acc = model.evaluate(test_generator)\n",
        "preds = model.predict(test_generator)\n",
        "\n",
        "# Compute additional metrics\n",
        "test_labels = test_df['label'].values\n",
        "pred_labels = np.argmax(preds, axis=1)\n",
        "auc = roc_auc_score(test_labels, preds, multi_class='ovo')\n",
        "map = average_precision_score(test_labels, preds, average='macro')\n",
        "f1 = f1_score(test_labels, pred_labels, average='macro')\n",
        "\n",
        "print(f\"Accuracy: {test_acc}\")\n",
        "print(f\"AUC: {auc}\")\n",
        "print(f\"Mean Average Precision: {map}\")\n",
        "print(f\"F1 Score: {f1}\")\n",
        "\n",
        "# Save the model\n",
        "model.save('dermoscopic_lesion_model.h5')\n"
      ],
      "metadata": {
        "id": "FNkpxgA5rFMR"
      },
      "execution_count": null,
      "outputs": []
    }
  ]
}